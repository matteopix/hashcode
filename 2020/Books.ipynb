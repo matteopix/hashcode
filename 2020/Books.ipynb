{
 "cells": [
  {
   "cell_type": "code",
   "execution_count": 1,
   "metadata": {},
   "outputs": [],
   "source": [
    "import pandas as pd"
   ]
  },
  {
   "cell_type": "code",
   "execution_count": 2,
   "metadata": {},
   "outputs": [],
   "source": [
    "in_files = [\n",
    "    \"a_example.txt\"\n",
    "    , \"b_read_on.txt\"\n",
    "    , \"c_incunabula.txt\"\n",
    "    , \"d_tough_choices.txt\"\n",
    "    , \"e_so_many_books.txt\"\n",
    "    , \"f_libraries_of_the_world.txt\"\n",
    "]"
   ]
  },
  {
   "cell_type": "code",
   "execution_count": 3,
   "metadata": {},
   "outputs": [],
   "source": [
    "def to_int_list(line):\n",
    "    return [b for b in map(int, line.strip().split(\" \"))]\n",
    "\n",
    "def read_input(in_file):\n",
    "    with open(in_file, 'r') as f:\n",
    "        l = f.readline().strip()\n",
    "        first_data = [d for d in map(int, l.split(\" \"))]\n",
    "        B = first_data[0]\n",
    "        L = first_data[1]\n",
    "        D = first_data[2]\n",
    "#        print(f'Total Books: {B}\\nLibraries: {L}\\nDays: {D}')\n",
    "        print(f'val inputMaxDays = {D}')\n",
    "        \n",
    "        book_scores = [b for b in map(int, f.readline().strip().split(\" \"))]\n",
    "\n",
    "#        print(book_scores)\n",
    "        libraries = []\n",
    "        for idx, library in enumerate(range(L)):\n",
    "            lib_data_1 = to_int_list(f.readline())\n",
    "            number_of_books = lib_data_1[0]\n",
    "            time = lib_data_1[1]\n",
    "            b_per_day = lib_data_1[2]\n",
    "#            print(f'{library} -> books: {number_of_books}, Time: {time}, BxDay: {b_per_day}')\n",
    "            lib_books = to_int_list(f.readline())\n",
    "#            print(f'{library} -> Books: {lib_books}')\n",
    "            libraries.append({\"Library\": idx\n",
    "                              , \"Number of books\": number_of_books\n",
    "                              , \"Startup time\": time\n",
    "                              , \"Books per day\": b_per_day\n",
    "                              , \"Books\": lib_books\n",
    "                             })\n",
    "        \n",
    "        return ({\n",
    "            \"Total Books\": B\n",
    "            , \"Total Libraries\": L\n",
    "            , \"Total Days\": D\n",
    "            , \"Books Scores\": book_scores\n",
    "            , \"Libraries\": libraries\n",
    "        })\n"
   ]
  },
  {
   "cell_type": "code",
   "execution_count": 4,
   "metadata": {},
   "outputs": [],
   "source": [
    "def write_out_file(out_file, solution, books):\n",
    "    with open(out_file, 'w') as o:\n",
    "        o.write(f\"{solution.shape[0]}\\n\")\n",
    "        for idx, library in solution.iterrows():\n",
    "            first_line = f\"{library['Library']} {len(library['Books'])}\\n\"\n",
    "            second_line = \" \".join([str(b) for b in library['Books']]) + \"\\n\"\n",
    "#            print(f'{first_line}\\n{second_line}')\n",
    "            o.write(first_line)\n",
    "            o.write(second_line)\n",
    "    "
   ]
  },
  {
   "cell_type": "markdown",
   "metadata": {},
   "source": [
    "# Naive"
   ]
  },
  {
   "cell_type": "code",
   "execution_count": 5,
   "metadata": {},
   "outputs": [
    {
     "name": "stdout",
     "output_type": "stream",
     "text": [
      "a_example.txt\n",
      "Total Books: 6\n",
      "Libraries: 2\n",
      "Days: 7\n",
      "\n",
      "\n",
      "\n",
      "b_read_on.txt\n",
      "Total Books: 100000\n",
      "Libraries: 100\n",
      "Days: 1000\n",
      "\n",
      "\n",
      "\n",
      "c_incunabula.txt\n",
      "Total Books: 100000\n",
      "Libraries: 10000\n",
      "Days: 100000\n",
      "\n",
      "\n",
      "\n",
      "d_tough_choices.txt\n",
      "Total Books: 78600\n",
      "Libraries: 30000\n",
      "Days: 30001\n",
      "\n",
      "\n",
      "\n",
      "e_so_many_books.txt\n",
      "Total Books: 100000\n",
      "Libraries: 1000\n",
      "Days: 200\n",
      "\n",
      "\n",
      "\n",
      "f_libraries_of_the_world.txt\n",
      "Total Books: 100000\n",
      "Libraries: 1000\n",
      "Days: 700\n",
      "\n",
      "\n",
      "\n"
     ]
    }
   ],
   "source": [
    "for problem in in_files:\n",
    "    print(problem)\n",
    "    data_in = read_input(problem)\n",
    "    libraries = pd.DataFrame(data_in['Libraries'])\n",
    "    libraries.sort_values('Startup time', inplace=True)\n",
    "    books = pd.DataFrame(data_in['Books Scores'])\n",
    "    write_out_file(problem.replace(\".txt\", \".out\"), libraries, books)\n",
    "    print(\"\\n\\n\")"
   ]
  },
  {
   "cell_type": "code",
   "execution_count": 11,
   "metadata": {},
   "outputs": [
    {
     "name": "stdout",
     "output_type": "stream",
     "text": [
      "Total Books: 6\n",
      "Libraries: 2\n",
      "Days: 7\n"
     ]
    },
    {
     "data": {
      "text/plain": [
       "{'Total Books': 6,\n",
       " 'Total Libraries': 2,\n",
       " 'Total Days': 7,\n",
       " 'Books Scores': [1, 2, 3, 6, 5, 4],\n",
       " 'Libraries': [{'Library': 0,\n",
       "   'Number of books': 5,\n",
       "   'Startup time': 2,\n",
       "   'Books per day': 2,\n",
       "   'Books': [0, 1, 2, 3, 4]},\n",
       "  {'Library': 1,\n",
       "   'Number of books': 4,\n",
       "   'Startup time': 3,\n",
       "   'Books per day': 1,\n",
       "   'Books': [0, 2, 3, 5]}]}"
      ]
     },
     "execution_count": 11,
     "metadata": {},
     "output_type": "execute_result"
    }
   ],
   "source": [
    "data_in = read_input('a_example.txt')\n",
    "data_in\n",
    "print('val mutableListOf = ')"
   ]
  },
  {
   "cell_type": "code",
   "execution_count": null,
   "metadata": {},
   "outputs": [],
   "source": [
    "for problem in in_files:\n",
    "    print(problem)\n",
    "    data_in = read_input(problem)\n",
    "    libraries = pd.DataFrame(data_in['Libraries'])\n",
    "    libraries.sort_values('Startup time', inplace=True)\n",
    "    books = pd.DataFrame(data_in['Books Scores'])\n",
    "    write_out_file(problem.replace(\".txt\", \".out\"), libraries, books)\n",
    "    print(\"\\n\\n\")"
   ]
  }
 ],
 "metadata": {
  "kernelspec": {
   "display_name": "Python 3",
   "language": "python",
   "name": "python3"
  },
  "language_info": {
   "codemirror_mode": {
    "name": "ipython",
    "version": 3
   },
   "file_extension": ".py",
   "mimetype": "text/x-python",
   "name": "python",
   "nbconvert_exporter": "python",
   "pygments_lexer": "ipython3",
   "version": "3.6.8"
  }
 },
 "nbformat": 4,
 "nbformat_minor": 4
}
