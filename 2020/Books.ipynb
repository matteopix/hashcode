{
 "cells": [
  {
   "cell_type": "code",
   "execution_count": 33,
   "metadata": {},
   "outputs": [],
   "source": [
    "import pandas as pd"
   ]
  },
  {
   "cell_type": "code",
   "execution_count": 34,
   "metadata": {},
   "outputs": [],
   "source": [
    "in_files = [\n",
    "    \"a_example.txt\"\n",
    "    , \"b_read_on.txt\"\n",
    "    , \"c_incunabula.txt\"\n",
    "    , \"d_tough_choices.txt\"\n",
    "    , \"e_so_many_books.txt\"\n",
    "    , \"f_libraries_of_the_world.txt\"\n",
    "]"
   ]
  },
  {
   "cell_type": "code",
   "execution_count": 35,
   "metadata": {},
   "outputs": [],
   "source": [
    "def to_int_list(line):\n",
    "    return [b for b in map(int, line.strip().split(\" \"))]\n",
    "\n",
    "def read_input(in_file):\n",
    "    with open(in_file, 'r') as f:\n",
    "        l = f.readline().strip()\n",
    "        first_data = [d for d in map(int, l.split(\" \"))]\n",
    "        B = first_data[0]\n",
    "        L = first_data[1]\n",
    "        D = first_data[2]\n",
    "        print(f'Total Books: {B}\\nLibraries: {L}\\nDays: {D}')\n",
    "        \n",
    "        book_scores = [b for b in map(int, f.readline().strip().split(\" \"))]\n",
    "\n",
    "#        print(book_scores)\n",
    "        libraries = []\n",
    "        for idx, library in enumerate(range(L)):\n",
    "            lib_data_1 = to_int_list(f.readline())\n",
    "            number_of_books = lib_data_1[0]\n",
    "            time = lib_data_1[1]\n",
    "            b_per_day = lib_data_1[2]\n",
    "#            print(f'{library} -> books: {number_of_books}, Time: {time}, BxDay: {b_per_day}')\n",
    "            lib_books = to_int_list(f.readline())\n",
    "#            print(f'{library} -> Books: {lib_books}')\n",
    "            libraries.append({\"Library\": idx\n",
    "                              , \"Number of books\": number_of_books\n",
    "                              , \"Startup time\": time\n",
    "                              , \"Books per day\": b_per_day\n",
    "                              , \"Books\": lib_books\n",
    "                             })\n",
    "        \n",
    "        return ({\n",
    "            \"Total Books\": B\n",
    "            , \"Total Libraries\": L\n",
    "            , \"Total Days\": D\n",
    "            , \"Books Scores\": book_scores\n",
    "            , \"Libraries\": libraries\n",
    "        })\n"
   ]
  },
  {
   "cell_type": "code",
   "execution_count": 36,
   "metadata": {},
   "outputs": [
    {
     "name": "stdout",
     "output_type": "stream",
     "text": [
      "Total Books: 6\n",
      "Libraries: 2\n",
      "Days: 7\n"
     ]
    }
   ],
   "source": [
    "foo = read_input(\"a_example.txt\")\n",
    "bar = pd.DataFrame(foo['Libraries'])"
   ]
  },
  {
   "cell_type": "code",
   "execution_count": 37,
   "metadata": {},
   "outputs": [],
   "source": [
    "books = pd.DataFrame(foo['Books Scores'])"
   ]
  },
  {
   "cell_type": "code",
   "execution_count": 38,
   "metadata": {},
   "outputs": [],
   "source": [
    "sorted_books = books.sort_values(by=0, ascending=False)"
   ]
  },
  {
   "cell_type": "code",
   "execution_count": null,
   "metadata": {},
   "outputs": [],
   "source": []
  },
  {
   "cell_type": "code",
   "execution_count": 39,
   "metadata": {},
   "outputs": [],
   "source": [
    "libraries = pd.DataFrame(foo['Libraries'])"
   ]
  },
  {
   "cell_type": "code",
   "execution_count": 40,
   "metadata": {},
   "outputs": [],
   "source": [
    "libraries.sort_values('Startup time', inplace=True)"
   ]
  },
  {
   "cell_type": "code",
   "execution_count": 41,
   "metadata": {},
   "outputs": [
    {
     "data": {
      "text/html": [
       "<div>\n",
       "<style scoped>\n",
       "    .dataframe tbody tr th:only-of-type {\n",
       "        vertical-align: middle;\n",
       "    }\n",
       "\n",
       "    .dataframe tbody tr th {\n",
       "        vertical-align: top;\n",
       "    }\n",
       "\n",
       "    .dataframe thead th {\n",
       "        text-align: right;\n",
       "    }\n",
       "</style>\n",
       "<table border=\"1\" class=\"dataframe\">\n",
       "  <thead>\n",
       "    <tr style=\"text-align: right;\">\n",
       "      <th></th>\n",
       "      <th>Library</th>\n",
       "      <th>Number of books</th>\n",
       "      <th>Startup time</th>\n",
       "      <th>Books per day</th>\n",
       "      <th>Books</th>\n",
       "    </tr>\n",
       "  </thead>\n",
       "  <tbody>\n",
       "    <tr>\n",
       "      <th>0</th>\n",
       "      <td>0</td>\n",
       "      <td>5</td>\n",
       "      <td>2</td>\n",
       "      <td>2</td>\n",
       "      <td>[0, 1, 2, 3, 4]</td>\n",
       "    </tr>\n",
       "    <tr>\n",
       "      <th>1</th>\n",
       "      <td>1</td>\n",
       "      <td>4</td>\n",
       "      <td>3</td>\n",
       "      <td>1</td>\n",
       "      <td>[0, 2, 3, 5]</td>\n",
       "    </tr>\n",
       "  </tbody>\n",
       "</table>\n",
       "</div>"
      ],
      "text/plain": [
       "   Library  Number of books  Startup time  Books per day            Books\n",
       "0        0                5             2              2  [0, 1, 2, 3, 4]\n",
       "1        1                4             3              1     [0, 2, 3, 5]"
      ]
     },
     "execution_count": 41,
     "metadata": {},
     "output_type": "execute_result"
    }
   ],
   "source": [
    "libraries"
   ]
  },
  {
   "cell_type": "code",
   "execution_count": 42,
   "metadata": {},
   "outputs": [],
   "source": [
    "signed_libraries = libraries.shape[0]"
   ]
  },
  {
   "cell_type": "code",
   "execution_count": 43,
   "metadata": {},
   "outputs": [
    {
     "data": {
      "text/plain": [
       "2"
      ]
     },
     "execution_count": 43,
     "metadata": {},
     "output_type": "execute_result"
    }
   ],
   "source": [
    "signed_libraries"
   ]
  },
  {
   "cell_type": "code",
   "execution_count": 44,
   "metadata": {},
   "outputs": [
    {
     "name": "stdout",
     "output_type": "stream",
     "text": [
      "0 5\n",
      "0 1 2 3 4\n",
      "1 4\n",
      "0 2 3 5\n"
     ]
    }
   ],
   "source": [
    "for idx, library in libraries.iterrows():\n",
    "    first_line = f\"{library['Library']} {len(library['Books'])}\"\n",
    "    second_line = \" \".join([str(b) for b in library['Books']])\n",
    "    print(f'{first_line}\\n{second_line}')"
   ]
  },
  {
   "cell_type": "code",
   "execution_count": 45,
   "metadata": {},
   "outputs": [],
   "source": [
    "def write_out_file(out_file, solution):\n",
    "    with open(out_file, 'w') as o:\n",
    "        o.write(f\"{solution.shape[0]}\\n\")\n",
    "        for idx, library in solution.iterrows():\n",
    "            first_line = f\"{library['Library']} {len(library['Books'])}\\n\"\n",
    "            second_line = \" \".join([str(b) for b in library['Books']]) + \"\\n\"\n",
    "#            print(f'{first_line}\\n{second_line}')\n",
    "            o.write(first_line)\n",
    "            o.write(second_line)\n",
    "    "
   ]
  },
  {
   "cell_type": "code",
   "execution_count": 46,
   "metadata": {},
   "outputs": [],
   "source": [
    "write_out_file(\"foo.out\", libraries)"
   ]
  },
  {
   "cell_type": "code",
   "execution_count": 47,
   "metadata": {},
   "outputs": [],
   "source": [
    "def solve(solution):\n",
    "    for problem in in_files:\n",
    "        print(problem)\n",
    "        data_in = read_input(problem)\n",
    "        libraries = pd.DataFrame(data_in['Libraries'])\n",
    "        solution = solution(problem)\n",
    "        write_out_file(problem.replace(\".txt\", \".out\"), solution)\n",
    "        print(\"\\n\\n\")"
   ]
  },
  {
   "cell_type": "markdown",
   "metadata": {},
   "source": [
    "# Naive"
   ]
  },
  {
   "cell_type": "code",
   "execution_count": 48,
   "metadata": {},
   "outputs": [
    {
     "name": "stdout",
     "output_type": "stream",
     "text": [
      "f_libraries_of_the_world.txt\n",
      "Total Books: 100000\n",
      "Libraries: 1000\n",
      "Days: 700\n",
      "\n",
      "\n",
      "\n"
     ]
    }
   ],
   "source": [
    "for problem in in_files[-1:]:\n",
    "    print(problem)\n",
    "    data_in = read_input(problem)\n",
    "    libraries = pd.DataFrame(data_in['Libraries'])\n",
    "    libraries.sort_values('Startup time', inplace=True)\n",
    "    write_out_file(problem.replace(\".txt\", \".out\"), libraries)\n",
    "    print(\"\\n\\n\")"
   ]
  },
  {
   "cell_type": "code",
   "execution_count": 49,
   "metadata": {},
   "outputs": [
    {
     "data": {
      "text/plain": [
       "'foo.out'"
      ]
     },
     "execution_count": 49,
     "metadata": {},
     "output_type": "execute_result"
    }
   ],
   "source": [
    "\"foo.txt\".replace(\".txt\", \".out\")"
   ]
  },
  {
   "cell_type": "markdown",
   "metadata": {},
   "source": [
    "# More naive"
   ]
  },
  {
   "cell_type": "code",
   "execution_count": 50,
   "metadata": {},
   "outputs": [],
   "source": [
    "def find_solution(in_file):\n",
    "    problem_data = read_input(in_file)\n",
    "    books = pd.DataFrame(problem_data['Books Scores'])\n",
    "    libraries = pd.DataFrame(problem_data['Libraries'])\n",
    "    libraries.sort_values('Startup time', inplace=True)\n",
    "    solution = libraries\n",
    "    for idx , library in libraries.iterrows():\n",
    "        library_books = pd.DataFrame(library['Books']).set_index(0)\n",
    "        scan_books = books.index.intersection(library_books.index)\n",
    "        if len(scan_books) == 0:\n",
    "            solution.drop(index=[library['Library']], inplace=True)\n",
    "        else:\n",
    "            books.drop(index=scan_books, inplace=True)\n",
    "            solution.at[library['Library'], 'Books'] = list(scan_books)\n",
    "        \n",
    "    return solution\n",
    "    \n"
   ]
  },
  {
   "cell_type": "code",
   "execution_count": 51,
   "metadata": {},
   "outputs": [
    {
     "name": "stdout",
     "output_type": "stream",
     "text": [
      "Total Books: 6\n",
      "Libraries: 2\n",
      "Days: 7\n"
     ]
    }
   ],
   "source": [
    "foo = find_solution(\"a_example.txt\")"
   ]
  },
  {
   "cell_type": "code",
   "execution_count": 52,
   "metadata": {},
   "outputs": [
    {
     "data": {
      "text/html": [
       "<div>\n",
       "<style scoped>\n",
       "    .dataframe tbody tr th:only-of-type {\n",
       "        vertical-align: middle;\n",
       "    }\n",
       "\n",
       "    .dataframe tbody tr th {\n",
       "        vertical-align: top;\n",
       "    }\n",
       "\n",
       "    .dataframe thead th {\n",
       "        text-align: right;\n",
       "    }\n",
       "</style>\n",
       "<table border=\"1\" class=\"dataframe\">\n",
       "  <thead>\n",
       "    <tr style=\"text-align: right;\">\n",
       "      <th></th>\n",
       "      <th>Library</th>\n",
       "      <th>Number of books</th>\n",
       "      <th>Startup time</th>\n",
       "      <th>Books per day</th>\n",
       "      <th>Books</th>\n",
       "    </tr>\n",
       "  </thead>\n",
       "  <tbody>\n",
       "    <tr>\n",
       "      <th>0</th>\n",
       "      <td>0</td>\n",
       "      <td>5</td>\n",
       "      <td>2</td>\n",
       "      <td>2</td>\n",
       "      <td>[0, 1, 2, 3, 4]</td>\n",
       "    </tr>\n",
       "    <tr>\n",
       "      <th>1</th>\n",
       "      <td>1</td>\n",
       "      <td>4</td>\n",
       "      <td>3</td>\n",
       "      <td>1</td>\n",
       "      <td>[5]</td>\n",
       "    </tr>\n",
       "  </tbody>\n",
       "</table>\n",
       "</div>"
      ],
      "text/plain": [
       "   Library  Number of books  Startup time  Books per day            Books\n",
       "0        0                5             2              2  [0, 1, 2, 3, 4]\n",
       "1        1                4             3              1              [5]"
      ]
     },
     "execution_count": 52,
     "metadata": {},
     "output_type": "execute_result"
    }
   ],
   "source": [
    "foo.head()"
   ]
  },
  {
   "cell_type": "code",
   "execution_count": 53,
   "metadata": {},
   "outputs": [
    {
     "name": "stdout",
     "output_type": "stream",
     "text": [
      "a_example.txt\n",
      "Total Books: 6\n",
      "Libraries: 2\n",
      "Days: 7\n",
      "Total Books: 6\n",
      "Libraries: 2\n",
      "Days: 7\n",
      "\n",
      "\n",
      "\n",
      "b_read_on.txt\n",
      "Total Books: 100000\n",
      "Libraries: 100\n",
      "Days: 1000\n",
      "Total Books: 100000\n",
      "Libraries: 100\n",
      "Days: 1000\n",
      "\n",
      "\n",
      "\n",
      "c_incunabula.txt\n",
      "Total Books: 100000\n",
      "Libraries: 10000\n",
      "Days: 100000\n",
      "Total Books: 100000\n",
      "Libraries: 10000\n",
      "Days: 100000\n",
      "\n",
      "\n",
      "\n",
      "d_tough_choices.txt\n",
      "Total Books: 78600\n",
      "Libraries: 30000\n",
      "Days: 30001\n",
      "Total Books: 78600\n",
      "Libraries: 30000\n",
      "Days: 30001\n",
      "\n",
      "\n",
      "\n",
      "e_so_many_books.txt\n",
      "Total Books: 100000\n",
      "Libraries: 1000\n",
      "Days: 200\n",
      "Total Books: 100000\n",
      "Libraries: 1000\n",
      "Days: 200\n",
      "\n",
      "\n",
      "\n",
      "f_libraries_of_the_world.txt\n",
      "Total Books: 100000\n",
      "Libraries: 1000\n",
      "Days: 700\n",
      "Total Books: 100000\n",
      "Libraries: 1000\n",
      "Days: 700\n",
      "\n",
      "\n",
      "\n"
     ]
    }
   ],
   "source": [
    "for problem in in_files:\n",
    "    print(problem)\n",
    "    data_in = read_input(problem)\n",
    "    libraries = pd.DataFrame(data_in['Libraries'])\n",
    "    solution = find_solution(problem)\n",
    "    write_out_file(problem.replace(\".txt\", \".out\"), solution)\n",
    "    print(\"\\n\\n\")"
   ]
  },
  {
   "cell_type": "markdown",
   "metadata": {},
   "source": [
    "# super naive"
   ]
  },
  {
   "cell_type": "code",
   "execution_count": 54,
   "metadata": {},
   "outputs": [],
   "source": [
    "def super_naive_solution(in_file):\n",
    "    problem_data = read_input(in_file)\n",
    "    libri = problem_data['Books Scores']\n",
    "    for i in problem_data['Libraries']:\n",
    "        i['points']=sum([libri[j] for j in i['Books']])\n",
    "    books = pd.DataFrame(problem_data['Books Scores'])\n",
    "    libraries = pd.DataFrame(problem_data['Libraries'])\n",
    "    libraries['Value'] = (problem_data['Total Days'] - libraries['Startup time']) * libraries['Books per day'] + libraries['points']\n",
    "#    print(libraries['Value'])\n",
    "    libraries.sort_values('Value', inplace=True, ascending=False)\n",
    "    solution = libraries\n",
    "    for idx , library in libraries.iterrows():\n",
    "        library_books = pd.DataFrame(library['Books']).set_index(0)\n",
    "        scan_books = books.index.intersection(library_books.index)\n",
    "        if len(scan_books) == 0:\n",
    "            solution.drop(index=[library['Library']], inplace=True)\n",
    "        else:\n",
    "            books.drop(index=scan_books, inplace=True)\n",
    "            solution.at[library['Library'], 'Books'] = list(scan_books)\n",
    "        \n",
    "    return solution"
   ]
  },
  {
   "cell_type": "code",
   "execution_count": 55,
   "metadata": {},
   "outputs": [
    {
     "name": "stdout",
     "output_type": "stream",
     "text": [
      "Total Books: 6\n",
      "Libraries: 2\n",
      "Days: 7\n"
     ]
    }
   ],
   "source": [
    "foo = super_naive_solution(\"a_example.txt\")"
   ]
  },
  {
   "cell_type": "code",
   "execution_count": null,
   "metadata": {},
   "outputs": [],
   "source": []
  },
  {
   "cell_type": "code",
   "execution_count": null,
   "metadata": {},
   "outputs": [
    {
     "name": "stdout",
     "output_type": "stream",
     "text": [
      "d_tough_choices.txt\n",
      "Total Books: 78600\n",
      "Libraries: 30000\n",
      "Days: 30001\n",
      "Total Books: 78600\n",
      "Libraries: 30000\n",
      "Days: 30001\n"
     ]
    }
   ],
   "source": [
    "for problem in in_files[3:]:\n",
    "    print(problem)\n",
    "    data_in = read_input(problem)\n",
    "    libraries = pd.DataFrame(data_in['Libraries'])\n",
    "    solution = super_naive_solution(problem)\n",
    "    write_out_file(problem.replace(\".txt\", \".out\"), solution)\n",
    "    print(\"\\n\\n\")"
   ]
  },
  {
   "cell_type": "code",
   "execution_count": null,
   "metadata": {},
   "outputs": [],
   "source": []
  }
 ],
 "metadata": {
  "kernelspec": {
   "display_name": "Python 3",
   "language": "python",
   "name": "python3"
  },
  "language_info": {
   "codemirror_mode": {
    "name": "ipython",
    "version": 3
   },
   "file_extension": ".py",
   "mimetype": "text/x-python",
   "name": "python",
   "nbconvert_exporter": "python",
   "pygments_lexer": "ipython3",
   "version": "3.6.8"
  }
 },
 "nbformat": 4,
 "nbformat_minor": 4
}
